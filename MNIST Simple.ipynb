{
 "cells": [
  {
   "cell_type": "code",
   "execution_count": 1,
   "metadata": {},
   "outputs": [
    {
     "name": "stdout",
     "output_type": "stream",
     "text": [
      "Python:3.5.6 |Anaconda, Inc.| (default, Aug 26 2018, 16:05:27) [MSC v.1900 64 bit (AMD64)]\n",
      "TF:2.0.0\n",
      "GPU:True CUDA:True\n"
     ]
    }
   ],
   "source": [
    "from __future__ import absolute_import, division, print_function, unicode_literals\n",
    "# Install TensorFlow\n",
    "\n",
    "import tensorflow as tf\n",
    "import numpy as np\n",
    "import base64\n",
    "import sys\n",
    "from tensorflow.python.client import device_lib\n",
    "\n",
    "print(\"Python:\"+sys.version)\n",
    "print(\"TF:\"+tf.__version__)\n",
    "print(\"GPU:\"+str(tf.test.is_gpu_available())+\" CUDA:\"+str(tf.test.is_built_with_cuda()))\n",
    "#print(device_lib.list_local_devices())"
   ]
  },
  {
   "cell_type": "code",
   "execution_count": 2,
   "metadata": {},
   "outputs": [],
   "source": [
    "mnist = tf.keras.datasets.mnist\n",
    "\n",
    "(x_train, y_train), (x_test, y_test) = mnist.load_data()\n",
    "x_train, x_test = x_train / 255.0, x_test / 255.0"
   ]
  },
  {
   "cell_type": "code",
   "execution_count": 3,
   "metadata": {},
   "outputs": [],
   "source": [
    "model = tf.keras.models.Sequential([\n",
    "  tf.keras.layers.Flatten(input_shape=(28, 28),name='Flatten'),\n",
    "  #tf.keras.layers.Dense(128, activation='relu',name='Dense1'),\n",
    "  tf.keras.layers.Dense(128,name='Dense1'),\n",
    "  #tf.keras.layers.LeakyReLU(alpha=0.2),    \n",
    "  tf.keras.layers.ReLU(),    \n",
    "  tf.keras.layers.Dropout(0.3),\n",
    "  tf.keras.layers.Dense(10, activation='softmax',name='Output')\n",
    "])\n",
    "\n",
    "model.compile(optimizer='adam',\n",
    "              loss='sparse_categorical_crossentropy',\n",
    "              metrics=['accuracy'])"
   ]
  },
  {
   "cell_type": "code",
   "execution_count": 4,
   "metadata": {},
   "outputs": [
    {
     "name": "stdout",
     "output_type": "stream",
     "text": [
      "Train on 60000 samples\n",
      "Epoch 1/5\n",
      "60000/60000 [==============================] - 3s 46us/sample - loss: 0.3198 - accuracy: 0.9061\n",
      "Epoch 2/5\n",
      "60000/60000 [==============================] - 2s 38us/sample - loss: 0.1641 - accuracy: 0.9508\n",
      "Epoch 3/5\n",
      "60000/60000 [==============================] - 2s 39us/sample - loss: 0.1262 - accuracy: 0.9610\n",
      "Epoch 4/5\n",
      "60000/60000 [==============================] - 2s 39us/sample - loss: 0.1062 - accuracy: 0.9675\n",
      "Epoch 5/5\n",
      "60000/60000 [==============================] - 2s 38us/sample - loss: 0.0920 - accuracy: 0.9717\n"
     ]
    },
    {
     "data": {
      "text/plain": [
       "<tensorflow.python.keras.callbacks.History at 0x1ec43f5ec50>"
      ]
     },
     "execution_count": 4,
     "metadata": {},
     "output_type": "execute_result"
    }
   ],
   "source": [
    "model.fit(x_train, y_train, epochs=5)"
   ]
  },
  {
   "cell_type": "code",
   "execution_count": 5,
   "metadata": {},
   "outputs": [
    {
     "name": "stdout",
     "output_type": "stream",
     "text": [
      "\r",
      "60000/1 [=======] - 1s 9us/sample - loss: 0.1025 - accuracy: 0.9867\n"
     ]
    },
    {
     "data": {
      "text/plain": [
       "[0.044796775067349276, 0.9867]"
      ]
     },
     "execution_count": 5,
     "metadata": {},
     "output_type": "execute_result"
    }
   ],
   "source": [
    "model.evaluate(x_train,  y_train, verbose=1,batch_size=128)"
   ]
  },
  {
   "cell_type": "code",
   "execution_count": 6,
   "metadata": {},
   "outputs": [],
   "source": [
    "def SaveModel(my_model,fileSTR):\n",
    "    totalbytes=0\n",
    "    data=[]\n",
    "    Wmodel = open(\"./Mokka/\"+fileSTR+\".weights\", \"wb\")\n",
    "    for x in my_model.weights:\n",
    "        nn = x.numpy()\n",
    "        T = nn\n",
    "        #if (nn.ndim == 4):\n",
    "        #    T = np.transpose(nn, (3,0,1,2))\n",
    "        #elif (nn.ndim == 3):\n",
    "        #    T = np.transpose(nn, (2,0,1))\n",
    "        #else:\n",
    "        #    T = nn.transpose()\n",
    "        v = np.ndarray.tobytes(T)\n",
    "        Wmodel.write(bytearray(v))\n",
    "        totalbytes+=len(v)\n",
    "        print(x.name, len(v),\" dims:\",nn.ndim,\" \", T.shape)\n",
    "        #if \"bias\" in x.name:\n",
    "         #   print(T)\n",
    "        data.append(base64.b64encode(v).decode(\"utf-8\"))\n",
    "    Wmodel.close()\n",
    "    print(\"Total bytes:\"+str(totalbytes))"
   ]
  },
  {
   "cell_type": "code",
   "execution_count": 7,
   "metadata": {},
   "outputs": [
    {
     "name": "stdout",
     "output_type": "stream",
     "text": [
      "Dense1/kernel:0 401408  dims: 2   (784, 128)\n",
      "Dense1/bias:0 512  dims: 1   (128,)\n",
      "Output/kernel:0 5120  dims: 2   (128, 10)\n",
      "Output/bias:0 40  dims: 1   (10,)\n",
      "Total bytes:407080\n"
     ]
    }
   ],
   "source": [
    "SaveModel(model,\"DENSE\")"
   ]
  },
  {
   "cell_type": "code",
   "execution_count": 8,
   "metadata": {},
   "outputs": [],
   "source": [
    "model.save('simple.h5')"
   ]
  },
  {
   "cell_type": "code",
   "execution_count": 9,
   "metadata": {},
   "outputs": [
    {
     "name": "stdout",
     "output_type": "stream",
     "text": [
      "Model: \"sequential\"\n",
      "_________________________________________________________________\n",
      "Layer (type)                 Output Shape              Param #   \n",
      "=================================================================\n",
      "Flatten (Flatten)            (None, 784)               0         \n",
      "_________________________________________________________________\n",
      "Dense1 (Dense)               (None, 128)               100480    \n",
      "_________________________________________________________________\n",
      "re_lu (ReLU)                 (None, 128)               0         \n",
      "_________________________________________________________________\n",
      "dropout (Dropout)            (None, 128)               0         \n",
      "_________________________________________________________________\n",
      "Output (Dense)               (None, 10)                1290      \n",
      "=================================================================\n",
      "Total params: 101,770\n",
      "Trainable params: 101,770\n",
      "Non-trainable params: 0\n",
      "_________________________________________________________________\n"
     ]
    }
   ],
   "source": [
    "model.summary()"
   ]
  },
  {
   "cell_type": "code",
   "execution_count": 10,
   "metadata": {},
   "outputs": [
    {
     "data": {
      "text/plain": [
       "[<tf.Variable 'Output/kernel:0' shape=(128, 10) dtype=float32, numpy=\n",
       " array([[ 0.25838962,  0.06922607, -0.24579443, ...,  0.30715936,\n",
       "         -0.31119227, -0.32856742],\n",
       "        [ 0.30996573,  0.09394977, -0.57722765, ..., -0.23561454,\n",
       "          0.08649647, -0.44042537],\n",
       "        [ 0.2241466 , -0.45880908, -0.20618825, ...,  0.18304335,\n",
       "          0.02498914,  0.10425311],\n",
       "        ...,\n",
       "        [ 0.01515807, -0.4769282 ,  0.11009397, ...,  0.25769907,\n",
       "         -0.15365885, -0.49681112],\n",
       "        [ 0.11247961, -0.5195554 ,  0.12638982, ..., -0.20718886,\n",
       "          0.15486637,  0.16420089],\n",
       "        [-0.4565279 , -0.17802586, -0.20560831, ..., -0.1250861 ,\n",
       "          0.2110254 ,  0.19146816]], dtype=float32)>,\n",
       " <tf.Variable 'Output/bias:0' shape=(10,) dtype=float32, numpy=\n",
       " array([-0.00675962, -0.05633172, -0.13950533, -0.20233499, -0.00163202,\n",
       "        -0.03614089, -0.0379517 ,  0.05244585,  0.24413656,  0.12814283],\n",
       "       dtype=float32)>]"
      ]
     },
     "execution_count": 10,
     "metadata": {},
     "output_type": "execute_result"
    }
   ],
   "source": [
    "model.get_layer('Output').weights"
   ]
  }
 ],
 "metadata": {
  "kernelspec": {
   "display_name": "Python 3",
   "language": "python",
   "name": "python3"
  },
  "language_info": {
   "codemirror_mode": {
    "name": "ipython",
    "version": 3
   },
   "file_extension": ".py",
   "mimetype": "text/x-python",
   "name": "python",
   "nbconvert_exporter": "python",
   "pygments_lexer": "ipython3",
   "version": "3.5.6"
  }
 },
 "nbformat": 4,
 "nbformat_minor": 2
}
