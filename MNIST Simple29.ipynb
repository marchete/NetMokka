{
 "cells": [
  {
   "cell_type": "code",
   "execution_count": 1,
   "metadata": {},
   "outputs": [
    {
     "name": "stdout",
     "output_type": "stream",
     "text": [
      "Python:3.5.6 |Anaconda, Inc.| (default, Aug 26 2018, 16:05:27) [MSC v.1900 64 bit (AMD64)]\n",
      "TF:2.0.0\n",
      "GPU:True CUDA:True\n"
     ]
    }
   ],
   "source": [
    "from __future__ import absolute_import, division, print_function, unicode_literals\n",
    "# Install TensorFlow\n",
    "\n",
    "import tensorflow as tf\n",
    "import numpy as np\n",
    "import base64\n",
    "import sys\n",
    "from tensorflow.python.client import device_lib\n",
    "\n",
    "print(\"Python:\"+sys.version)\n",
    "print(\"TF:\"+tf.__version__)\n",
    "print(\"GPU:\"+str(tf.test.is_gpu_available())+\" CUDA:\"+str(tf.test.is_built_with_cuda()))\n",
    "#print(device_lib.list_local_devices())"
   ]
  },
  {
   "cell_type": "code",
   "execution_count": 2,
   "metadata": {},
   "outputs": [
    {
     "name": "stdout",
     "output_type": "stream",
     "text": [
      "Downloading data from https://storage.googleapis.com/tensorflow/tf-keras-datasets/mnist.npz\n",
      "11493376/11490434 [==============================] - 0s 0us/step\n"
     ]
    }
   ],
   "source": [
    "mnist = tf.keras.datasets.mnist\n",
    "\n",
    "(TRAIN, y_train), (TEST, y_test) = mnist.load_data()\n",
    "\n",
    "TRAIN, TEST = TRAIN / 255.0, TEST / 255.0\n",
    "\n",
    "\n",
    "x_train = np.empty([len(TRAIN), 29,29], dtype=float)\n",
    "x_test = np.empty([len(TEST), 29,29], dtype=float)\n",
    "\n",
    "for x in range(len(TRAIN)):\n",
    "    x_train[x] = np.pad(TRAIN[x], (0,1), 'constant', constant_values=(0,0))\n",
    "for x in range(len(TEST)):\n",
    "    x_test[x] = np.pad(TEST[x], (0,1), 'constant', constant_values=(0,0))\n"
   ]
  },
  {
   "cell_type": "code",
   "execution_count": 3,
   "metadata": {},
   "outputs": [],
   "source": [
    "model = tf.keras.models.Sequential([\n",
    "  tf.keras.layers.Flatten(input_shape=(29, 29),name='Flatten'),\n",
    "  #tf.keras.layers.Dense(128, activation='relu',name='Dense1'),\n",
    "  tf.keras.layers.Dense(127,name='Dense1'),\n",
    "  #tf.keras.layers.LeakyReLU(alpha=0.2),    \n",
    "  tf.keras.layers.ReLU(),    \n",
    "  tf.keras.layers.Dropout(0.3),\n",
    "  tf.keras.layers.Dense(13, activation='softmax',name='Output')\n",
    "])\n",
    "\n",
    "model.compile(optimizer='adam',\n",
    "              loss='sparse_categorical_crossentropy',\n",
    "              metrics=['accuracy'])"
   ]
  },
  {
   "cell_type": "code",
   "execution_count": 4,
   "metadata": {},
   "outputs": [
    {
     "name": "stdout",
     "output_type": "stream",
     "text": [
      "Train on 60000 samples\n",
      "Epoch 1/5\n",
      "60000/60000 [==============================] - 3s 47us/sample - loss: 0.3236 - accuracy: 0.9050\n",
      "Epoch 2/5\n",
      "60000/60000 [==============================] - 2s 38us/sample - loss: 0.1613 - accuracy: 0.9517\n",
      "Epoch 3/5\n",
      "60000/60000 [==============================] - 2s 39us/sample - loss: 0.1279 - accuracy: 0.9620\n",
      "Epoch 4/5\n",
      "60000/60000 [==============================] - 2s 38us/sample - loss: 0.1073 - accuracy: 0.9667\n",
      "Epoch 5/5\n",
      "60000/60000 [==============================] - 2s 38us/sample - loss: 0.0936 - accuracy: 0.9707\n"
     ]
    },
    {
     "data": {
      "text/plain": [
       "<tensorflow.python.keras.callbacks.History at 0x210e4c57080>"
      ]
     },
     "execution_count": 4,
     "metadata": {},
     "output_type": "execute_result"
    }
   ],
   "source": [
    "model.fit(x_train, y_train, epochs=5)"
   ]
  },
  {
   "cell_type": "code",
   "execution_count": 5,
   "metadata": {},
   "outputs": [
    {
     "name": "stdout",
     "output_type": "stream",
     "text": [
      "10000/1 - 0s - loss: 0.0397 - accuracy: 0.9753\n"
     ]
    },
    {
     "data": {
      "text/plain": [
       "[0.0775348738823086, 0.9753]"
      ]
     },
     "execution_count": 5,
     "metadata": {},
     "output_type": "execute_result"
    }
   ],
   "source": [
    "model.evaluate(x_test,  y_test, verbose=2,batch_size=128)"
   ]
  },
  {
   "cell_type": "code",
   "execution_count": 6,
   "metadata": {},
   "outputs": [
    {
     "name": "stdout",
     "output_type": "stream",
     "text": [
      "60000/1 - 1s - loss: 0.1204 - accuracy: 0.9856\n"
     ]
    },
    {
     "data": {
      "text/plain": [
       "[0.04762919093420108, 0.9855667]"
      ]
     },
     "execution_count": 6,
     "metadata": {},
     "output_type": "execute_result"
    }
   ],
   "source": [
    "model.evaluate(x_train,  y_train, verbose=2,batch_size=128)"
   ]
  },
  {
   "cell_type": "code",
   "execution_count": 7,
   "metadata": {},
   "outputs": [],
   "source": [
    "def SaveModel(my_model,fileSTR):\n",
    "    totalbytes=0\n",
    "    data=[]\n",
    "    Wmodel = open(\"./Mokka/\"+fileSTR+\".weights\", \"wb\")\n",
    "    for x in my_model.weights:\n",
    "        nn = x.numpy()\n",
    "        T = nn\n",
    "        #if (nn.ndim == 4):\n",
    "        #    T = np.transpose(nn, (3,0,1,2))\n",
    "        #elif (nn.ndim == 3):\n",
    "        #    T = np.transpose(nn, (2,0,1))\n",
    "        #else:\n",
    "        #    T = nn.transpose()\n",
    "        v = np.ndarray.tobytes(T)\n",
    "        Wmodel.write(bytearray(v))\n",
    "        totalbytes+=len(v)\n",
    "        print(x.name, len(v),\" dims:\",nn.ndim,\" \", T.shape)\n",
    "        #if \"bias\" in x.name:\n",
    "         #   print(T)\n",
    "        data.append(base64.b64encode(v).decode(\"utf-8\"))\n",
    "    Wmodel.close()\n",
    "    print(\"Total bytes:\"+str(totalbytes))"
   ]
  },
  {
   "cell_type": "code",
   "execution_count": 8,
   "metadata": {},
   "outputs": [
    {
     "name": "stdout",
     "output_type": "stream",
     "text": [
      "Dense1/kernel:0 427228  dims: 2   (841, 127)\n",
      "Dense1/bias:0 508  dims: 1   (127,)\n",
      "Output/kernel:0 6604  dims: 2   (127, 13)\n",
      "Output/bias:0 52  dims: 1   (13,)\n",
      "Total bytes:434392\n"
     ]
    }
   ],
   "source": [
    "SaveModel(model,\"DENSE29\")"
   ]
  },
  {
   "cell_type": "code",
   "execution_count": 9,
   "metadata": {},
   "outputs": [],
   "source": [
    "model.save('simple29.h5')"
   ]
  },
  {
   "cell_type": "code",
   "execution_count": 10,
   "metadata": {},
   "outputs": [
    {
     "name": "stdout",
     "output_type": "stream",
     "text": [
      "Model: \"sequential\"\n",
      "_________________________________________________________________\n",
      "Layer (type)                 Output Shape              Param #   \n",
      "=================================================================\n",
      "Flatten (Flatten)            (None, 841)               0         \n",
      "_________________________________________________________________\n",
      "Dense1 (Dense)               (None, 127)               106934    \n",
      "_________________________________________________________________\n",
      "re_lu (ReLU)                 (None, 127)               0         \n",
      "_________________________________________________________________\n",
      "dropout (Dropout)            (None, 127)               0         \n",
      "_________________________________________________________________\n",
      "Output (Dense)               (None, 13)                1664      \n",
      "=================================================================\n",
      "Total params: 108,598\n",
      "Trainable params: 108,598\n",
      "Non-trainable params: 0\n",
      "_________________________________________________________________\n"
     ]
    }
   ],
   "source": [
    "model.summary()"
   ]
  },
  {
   "cell_type": "code",
   "execution_count": 11,
   "metadata": {},
   "outputs": [
    {
     "data": {
      "text/plain": [
       "[<tf.Variable 'Output/kernel:0' shape=(127, 13) dtype=float32, numpy=\n",
       " array([[-0.10827719,  0.19323318,  0.03388356, ..., -0.36820233,\n",
       "         -0.3562779 , -0.4652876 ],\n",
       "        [-0.17668474,  0.30017617, -0.4584608 , ..., -0.00719678,\n",
       "         -0.01962683, -0.20992887],\n",
       "        [ 0.26041526, -0.35097694, -0.43156895, ..., -0.2406854 ,\n",
       "         -0.5007988 , -0.4352932 ],\n",
       "        ...,\n",
       "        [ 0.15769762,  0.21966098,  0.2426243 , ...,  0.03825633,\n",
       "         -0.03931421, -0.0760982 ],\n",
       "        [-0.4319835 ,  0.09661708,  0.24710631, ..., -0.14905424,\n",
       "         -0.00823907, -0.00269214],\n",
       "        [ 0.19710751, -0.25392509, -0.43765238, ..., -0.06893092,\n",
       "         -0.28859648, -0.2852598 ]], dtype=float32)>,\n",
       " <tf.Variable 'Output/bias:0' shape=(13,) dtype=float32, numpy=\n",
       " array([ 0.1117326 ,  0.02777779, -0.06536955, -0.10487995,  0.04497845,\n",
       "        -0.02382771, -0.11670177, -0.03403569,  0.18982293,  0.04765398,\n",
       "        -0.14132845, -0.1278952 , -0.13403633], dtype=float32)>]"
      ]
     },
     "execution_count": 11,
     "metadata": {},
     "output_type": "execute_result"
    }
   ],
   "source": [
    "model.get_layer('Output').weights"
   ]
  }
 ],
 "metadata": {
  "kernelspec": {
   "display_name": "Python 3",
   "language": "python",
   "name": "python3"
  },
  "language_info": {
   "codemirror_mode": {
    "name": "ipython",
    "version": 3
   },
   "file_extension": ".py",
   "mimetype": "text/x-python",
   "name": "python",
   "nbconvert_exporter": "python",
   "pygments_lexer": "ipython3",
   "version": "3.5.6"
  }
 },
 "nbformat": 4,
 "nbformat_minor": 2
}
